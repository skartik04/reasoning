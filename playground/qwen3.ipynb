{
 "cells": [
  {
   "cell_type": "code",
   "execution_count": 29,
   "id": "94de3573",
   "metadata": {},
   "outputs": [],
   "source": [
    "import torch\n",
    "from transformers import AutoTokenizer, AutoModelForCausalLM, GenerationConfig\n",
    "from datasets import load_dataset\n",
    "import random\n",
    "import re\n",
    "from tqdm import tqdm\n",
    "import json"
   ]
  },
  {
   "cell_type": "code",
   "execution_count": 16,
   "id": "aedbef48",
   "metadata": {},
   "outputs": [
    {
     "data": {
      "application/vnd.jupyter.widget-view+json": {
       "model_id": "5dc7b56bec88476e98a71dbb6c3f41fb",
       "version_major": 2,
       "version_minor": 0
      },
      "text/plain": [
       "Loading checkpoint shards:   0%|          | 0/2 [00:00<?, ?it/s]"
      ]
     },
     "metadata": {},
     "output_type": "display_data"
    }
   ],
   "source": [
    "tokenizer = AutoTokenizer.from_pretrained(\"Qwen/Qwen3-1.7B\")\n",
    "model = AutoModelForCausalLM.from_pretrained(\"Qwen/Qwen3-1.7B\", torch_dtype=torch.float16, device_map=\"auto\", trust_remote_code=True)"
   ]
  },
  {
   "cell_type": "code",
   "execution_count": 18,
   "id": "64052efa",
   "metadata": {},
   "outputs": [
    {
     "data": {
      "text/plain": [
       "device(type='cuda', index=0)"
      ]
     },
     "execution_count": 18,
     "metadata": {},
     "output_type": "execute_result"
    }
   ],
   "source": [
    "model.device"
   ]
  },
  {
   "cell_type": "code",
   "execution_count": 19,
   "id": "4c989d4e",
   "metadata": {},
   "outputs": [],
   "source": [
    "QWEN_CHAT_TEMPLATE = \"<|im_start|>user\\n{prompt}\\n<|im_end|>\\n<|im_start|>assistant\\n\""
   ]
  },
  {
   "cell_type": "code",
   "execution_count": 23,
   "id": "f81901b0",
   "metadata": {},
   "outputs": [],
   "source": [
    "def format_prompt(prompt, apply=True):\n",
    "    if apply:\n",
    "        return QWEN_CHAT_TEMPLATE.format(prompt=prompt)\n",
    "    else:\n",
    "        return prompt\n",
    "\n",
    "def tokenize_input(text):\n",
    "    \"\"\"Tokenize the input text and return input_ids and attention_mask.\"\"\"\n",
    "    inputs = tokenizer(text, return_tensors=\"pt\", padding=True, truncation=True)\n",
    "    return inputs\n",
    "\n",
    "def generate_response(formatted_prompt, max_new_tokens=1000):\n",
    "    inputs = tokenize_input(formatted_prompt).to(model.device)\n",
    "    \n",
    "    with torch.no_grad():\n",
    "        output_ids = model.generate(\n",
    "            **inputs,\n",
    "            max_new_tokens=max_new_tokens,\n",
    "            eos_token_id=tokenizer.eos_token_id,\n",
    "        )\n",
    "    response = tokenizer.decode(output_ids[0], skip_special_tokens=True)\n",
    "    return response"
   ]
  },
  {
   "cell_type": "code",
   "execution_count": 42,
   "id": "5ccf12c7",
   "metadata": {},
   "outputs": [],
   "source": [
    "def extract_final_answer(text):\n",
    "    # Try strict match first: 'Answer: <number>'\n",
    "    match = re.search(r'Answer:\\s*\\$?(\\d+(?:\\.\\d+)?)', text, re.IGNORECASE)\n",
    "    if match:\n",
    "        return int(float(match.group(1)))\n",
    "\n",
    "    # Try to extract from LaTeX-style boxed answer\n",
    "    match = re.search(r'\\\\boxed{?\\$?(\\d+(?:\\.\\d+)?)', text)\n",
    "    if match:\n",
    "        return int(float(match.group(1)))\n",
    "\n",
    "    # As fallback, look for last number in text\n",
    "    all_nums = re.findall(r'\\d+(?:\\.\\d+)?', text)\n",
    "    if all_nums:\n",
    "        return int(float(all_nums[-1]))\n",
    "\n",
    "    return None"
   ]
  },
  {
   "cell_type": "code",
   "execution_count": 25,
   "id": "e9dad289",
   "metadata": {},
   "outputs": [],
   "source": [
    "dataset = load_dataset(\"gsm8k\", \"main\")"
   ]
  },
  {
   "cell_type": "code",
   "execution_count": 47,
   "id": "003488b7",
   "metadata": {},
   "outputs": [],
   "source": [
    "n = 30\n",
    "random.seed(0)\n",
    "indices = random.sample(range(len(dataset['train'])), n)\n",
    "qa_pairs = dataset['train'][indices]\n",
    "questions = qa_pairs['question']\n",
    "answers = qa_pairs['answer']\n",
    "\n",
    "import re\n",
    "final_answers = []\n",
    "for answer in answers:\n",
    "    numbers = re.findall(r'\\d+', answer)\n",
    "    final_answers.append(int(numbers[-1]) if numbers else '')"
   ]
  },
  {
   "cell_type": "code",
   "execution_count": 48,
   "id": "1f6057bd",
   "metadata": {},
   "outputs": [],
   "source": [
    "# instruction = (\n",
    "#     \"Give your reasoning step by step in detail. \"\n",
    "#     \"Then, on the **last line**, write the **final numeric answer** \"\n",
    "#     \"**only once**, prefixed exactly by `Answer:` with no symbols, no LaTeX, no dollar signs, \"\n",
    "#     \"**just the number**, and **nothing after it**. Do not use \\\\boxed or any formatting.\\n\\n\"\n",
    "#     \"Example:\\nAnswer:\\n\"\n",
    "# )\n",
    "\n",
    "def instructions(thinking=True):\n",
    "    nothink_token =  \"/nothink\"\n",
    "    if thinking:\n",
    "        return \" \"\n",
    "    else:\n",
    "        return \" \" + nothink_token"
   ]
  },
  {
   "cell_type": "code",
   "execution_count": null,
   "id": "189faa71",
   "metadata": {},
   "outputs": [
    {
     "name": "stderr",
     "output_type": "stream",
     "text": [
      "100%|██████████| 20/20 [12:17<00:00, 36.86s/it]\n"
     ]
    }
   ],
   "source": [
    "results = []\n",
    "max_new_tokens = 10000\n",
    "for i, question in enumerate(tqdm(questions)):\n",
    "    result = {\n",
    "        \"question\": question,\n",
    "    }\n",
    "\n",
    "    # Thinking mode\n",
    "    prompt_think = question + instructions(thinking=True)\n",
    "    formatted_think = format_prompt(prompt_think)\n",
    "    response_think = generate_response(formatted_think, max_new_tokens=max_new_tokens)\n",
    "    result[\"response_thinking\"] = response_think\n",
    "    \n",
    "    # Nothinking mode\n",
    "    prompt_nothink = question + instructions(thinking=False)\n",
    "    formatted_nothink = format_prompt(prompt_nothink)\n",
    "    response_nothink = generate_response(formatted_nothink, max_new_tokens=max_new_tokens)\n",
    "    result[\"response_nothinking\"] = response_nothink\n",
    "\n",
    "    result[\"predicted_thinking\"] = extract_final_answer(response_think)\n",
    "    result[\"predicted_nothinking\"] = extract_final_answer(response_nothink)\n",
    "    result['answer'] = final_answers[i]\n",
    "\n",
    "    results.append(result)\n",
    "\n",
    "with open(\"qwen3_thinking_vs_nothinking.json\", \"w\") as f:\n",
    "    json.dump(results, f, indent=2)"
   ]
  },
  {
   "cell_type": "code",
   "execution_count": null,
   "id": "727326f8",
   "metadata": {},
   "outputs": [],
   "source": []
  }
 ],
 "metadata": {
  "kernelspec": {
   "display_name": "uv-env",
   "language": "python",
   "name": "python3"
  },
  "language_info": {
   "codemirror_mode": {
    "name": "ipython",
    "version": 3
   },
   "file_extension": ".py",
   "mimetype": "text/x-python",
   "name": "python",
   "nbconvert_exporter": "python",
   "pygments_lexer": "ipython3",
   "version": "3.11.11"
  }
 },
 "nbformat": 4,
 "nbformat_minor": 5
}
