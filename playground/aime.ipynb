{
 "cells": [
  {
   "cell_type": "code",
   "execution_count": 1,
   "id": "c2f0db94",
   "metadata": {},
   "outputs": [],
   "source": [
    "import random\n",
    "random.seed(42)"
   ]
  },
  {
   "cell_type": "code",
   "execution_count": 2,
   "id": "82546a59",
   "metadata": {},
   "outputs": [
    {
     "data": {
      "application/vnd.jupyter.widget-view+json": {
       "model_id": "cd4450d6a33748a294755430e77478c6",
       "version_major": 2,
       "version_minor": 0
      },
      "text/plain": [
       "Loading checkpoint shards:   0%|          | 0/2 [00:00<?, ?it/s]"
      ]
     },
     "metadata": {},
     "output_type": "display_data"
    }
   ],
   "source": [
    "from transformers import AutoTokenizer, AutoModelForCausalLM, GenerationConfig\n",
    "import torch\n",
    "\n",
    "tokenizer = AutoTokenizer.from_pretrained(\"Qwen/Qwen3-1.7B\", trust_remote_code=True)\n",
    "model = AutoModelForCausalLM.from_pretrained(\"Qwen/Qwen3-1.7B\", trust_remote_code=True, device_map=\"auto\", torch_dtype=\"auto\")"
   ]
  },
  {
   "cell_type": "code",
   "execution_count": 3,
   "id": "3de7358e",
   "metadata": {},
   "outputs": [],
   "source": [
    "from datasets import load_dataset\n",
    "\n",
    "# Login using e.g. `huggingface-cli login` to access this dataset\n",
    "ds = load_dataset(\"Maxwell-Jia/AIME_2024\")"
   ]
  },
  {
   "cell_type": "code",
   "execution_count": 4,
   "id": "60307756",
   "metadata": {},
   "outputs": [
    {
     "data": {
      "text/plain": [
       "{'ID': '2024-II-4',\n",
       " 'Problem': 'Let $x,y$ and $z$ be positive real numbers that satisfy the following system of equations: \\n\\\\[\\\\log_2\\\\left({x \\\\over yz}\\\\right) = {1 \\\\over 2}\\\\]\\n\\\\[\\\\log_2\\\\left({y \\\\over xz}\\\\right) = {1 \\\\over 3}\\\\]\\n\\\\[\\\\log_2\\\\left({z \\\\over xy}\\\\right) = {1 \\\\over 4}\\\\]\\nThen the value of $\\\\left|\\\\log_2(x^4y^3z^2)\\\\right|$ is $\\\\tfrac{m}{n}$ where $m$ and $n$ are relatively prime positive integers. Find $m+n$.',\n",
       " 'Solution': 'Denote $\\\\log_2(x) = a$, $\\\\log_2(y) = b$, and $\\\\log_2(z) = c$.\\n\\nThen, we have:\\n$a-b-c = \\\\frac{1}{2}$,\\n$-a+b-c = \\\\frac{1}{3}$,\\n$-a-b+c = \\\\frac{1}{4}$.\\n\\nNow, we can solve to get $a = \\\\frac{-7}{24}, b = \\\\frac{-9}{24}, c = \\\\frac{-5}{12}$.\\nPlugging these values in, we obtain $|4a + 3b + 2c|  = \\\\frac{25}{8} \\\\implies \\\\boxed{033}$.',\n",
       " 'Answer': 33}"
      ]
     },
     "execution_count": 4,
     "metadata": {},
     "output_type": "execute_result"
    }
   ],
   "source": [
    "ds['train'][0]"
   ]
  },
  {
   "cell_type": "code",
   "execution_count": 5,
   "id": "5d948064",
   "metadata": {},
   "outputs": [],
   "source": [
    "dataset = load_dataset(\"gsm8k\", \"main\")"
   ]
  },
  {
   "cell_type": "code",
   "execution_count": 6,
   "id": "0921f6af",
   "metadata": {},
   "outputs": [],
   "source": [
    "n = 100\n",
    "indices = random.sample(range(len(dataset['train'])), n)\n",
    "qa_pairs = dataset['train'][indices]"
   ]
  },
  {
   "cell_type": "code",
   "execution_count": 7,
   "id": "b6c48d7d",
   "metadata": {},
   "outputs": [
    {
     "data": {
      "text/plain": [
       "['12',\n",
       " '40',\n",
       " '160',\n",
       " '245',\n",
       " '14',\n",
       " '130',\n",
       " '3982',\n",
       " '30',\n",
       " '25',\n",
       " '584',\n",
       " '9',\n",
       " '9',\n",
       " '450',\n",
       " '7',\n",
       " '25',\n",
       " '260',\n",
       " '4',\n",
       " '360',\n",
       " '100',\n",
       " '5',\n",
       " '10',\n",
       " '4',\n",
       " '16',\n",
       " '75',\n",
       " '96',\n",
       " '700',\n",
       " '1',\n",
       " '24',\n",
       " '2',\n",
       " '8',\n",
       " '5950',\n",
       " '9',\n",
       " '65',\n",
       " '3',\n",
       " '216',\n",
       " '1500',\n",
       " '30',\n",
       " '300',\n",
       " '36',\n",
       " '10',\n",
       " '20',\n",
       " '26',\n",
       " '10',\n",
       " '600',\n",
       " '407',\n",
       " '3',\n",
       " '6',\n",
       " '9',\n",
       " '20',\n",
       " '1500',\n",
       " '5',\n",
       " '8798',\n",
       " '920',\n",
       " '23',\n",
       " '6',\n",
       " '322',\n",
       " '15',\n",
       " '50',\n",
       " '1440',\n",
       " '36',\n",
       " '66',\n",
       " '6000',\n",
       " '34',\n",
       " '20000',\n",
       " '19',\n",
       " '240',\n",
       " '264',\n",
       " '72',\n",
       " '135',\n",
       " '17',\n",
       " '198',\n",
       " '3400',\n",
       " '15',\n",
       " '67',\n",
       " '226',\n",
       " '175',\n",
       " '38000',\n",
       " '100',\n",
       " '25',\n",
       " '20',\n",
       " '81',\n",
       " '1085',\n",
       " '5',\n",
       " '200',\n",
       " '16',\n",
       " '5',\n",
       " '12',\n",
       " '40',\n",
       " '600',\n",
       " '5',\n",
       " '11',\n",
       " '3214',\n",
       " '16',\n",
       " '180',\n",
       " '16',\n",
       " '22',\n",
       " '700',\n",
       " '6240',\n",
       " '404',\n",
       " '3']"
      ]
     },
     "execution_count": 7,
     "metadata": {},
     "output_type": "execute_result"
    }
   ],
   "source": [
    "[answer.split()[-1] for answer in qa_pairs['answer']]"
   ]
  },
  {
   "cell_type": "code",
   "execution_count": 8,
   "id": "c247417f",
   "metadata": {},
   "outputs": [
    {
     "data": {
      "text/plain": [
       "'For every 12 cans you recycle, you receive $0.50, and for every 5 kilograms of newspapers, you receive $1.50. If your family collected 144 cans and 20 kilograms of newspapers, how much money would you receive?'"
      ]
     },
     "execution_count": 8,
     "metadata": {},
     "output_type": "execute_result"
    }
   ],
   "source": [
    "qa_pairs['question'][0]"
   ]
  },
  {
   "cell_type": "code",
   "execution_count": null,
   "id": "8613455b",
   "metadata": {},
   "outputs": [],
   "source": []
  }
 ],
 "metadata": {
  "kernelspec": {
   "display_name": "uv-env",
   "language": "python",
   "name": "python3"
  },
  "language_info": {
   "codemirror_mode": {
    "name": "ipython",
    "version": 3
   },
   "file_extension": ".py",
   "mimetype": "text/x-python",
   "name": "python",
   "nbconvert_exporter": "python",
   "pygments_lexer": "ipython3",
   "version": "3.11.11"
  }
 },
 "nbformat": 4,
 "nbformat_minor": 5
}
