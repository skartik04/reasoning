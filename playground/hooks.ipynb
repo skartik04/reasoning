{
 "cells": [
  {
   "cell_type": "code",
   "execution_count": 1,
   "id": "d6ed4b3b",
   "metadata": {},
   "outputs": [],
   "source": [
    "import torch\n",
    "from transformers import AutoTokenizer, AutoModelForCausalLM\n",
    "from datasets import load_dataset\n",
    "import random\n",
    "import re\n",
    "from tqdm import tqdm\n",
    "import json\n",
    "from collections import defaultdict"
   ]
  },
  {
   "cell_type": "code",
   "execution_count": 2,
   "id": "a22de80c",
   "metadata": {},
   "outputs": [
    {
     "data": {
      "application/vnd.jupyter.widget-view+json": {
       "model_id": "1d2f24653d994b8f8a74970d6683c37a",
       "version_major": 2,
       "version_minor": 0
      },
      "text/plain": [
       "Loading checkpoint shards:   0%|          | 0/2 [00:00<?, ?it/s]"
      ]
     },
     "metadata": {},
     "output_type": "display_data"
    },
    {
     "data": {
      "text/plain": [
       "Qwen3ForCausalLM(\n",
       "  (model): Qwen3Model(\n",
       "    (embed_tokens): Embedding(151936, 2048)\n",
       "    (layers): ModuleList(\n",
       "      (0-27): 28 x Qwen3DecoderLayer(\n",
       "        (self_attn): Qwen3Attention(\n",
       "          (q_proj): Linear(in_features=2048, out_features=2048, bias=False)\n",
       "          (k_proj): Linear(in_features=2048, out_features=1024, bias=False)\n",
       "          (v_proj): Linear(in_features=2048, out_features=1024, bias=False)\n",
       "          (o_proj): Linear(in_features=2048, out_features=2048, bias=False)\n",
       "          (q_norm): Qwen3RMSNorm((128,), eps=1e-06)\n",
       "          (k_norm): Qwen3RMSNorm((128,), eps=1e-06)\n",
       "        )\n",
       "        (mlp): Qwen3MLP(\n",
       "          (gate_proj): Linear(in_features=2048, out_features=6144, bias=False)\n",
       "          (up_proj): Linear(in_features=2048, out_features=6144, bias=False)\n",
       "          (down_proj): Linear(in_features=6144, out_features=2048, bias=False)\n",
       "          (act_fn): SiLU()\n",
       "        )\n",
       "        (input_layernorm): Qwen3RMSNorm((2048,), eps=1e-06)\n",
       "        (post_attention_layernorm): Qwen3RMSNorm((2048,), eps=1e-06)\n",
       "      )\n",
       "    )\n",
       "    (norm): Qwen3RMSNorm((2048,), eps=1e-06)\n",
       "    (rotary_emb): Qwen3RotaryEmbedding()\n",
       "  )\n",
       "  (lm_head): Linear(in_features=2048, out_features=151936, bias=False)\n",
       ")"
      ]
     },
     "execution_count": 2,
     "metadata": {},
     "output_type": "execute_result"
    }
   ],
   "source": [
    "# cache_dir = \"/mnt/SSD4/kartik/hf_cache\"\n",
    "model_name = \"Qwen/Qwen3-1.7B\"\n",
    "\n",
    "# Load tokenizer and model\n",
    "tokenizer = AutoTokenizer.from_pretrained(model_name)\n",
    "model = AutoModelForCausalLM.from_pretrained(\n",
    "    model_name,\n",
    "    trust_remote_code=True,\n",
    "    device_map=\"auto\",\n",
    ")\n",
    "model.eval()"
   ]
  },
  {
   "cell_type": "code",
   "execution_count": 3,
   "id": "28c041ff",
   "metadata": {},
   "outputs": [],
   "source": [
    "\n",
    "# -------- Residual capture logic --------\n",
    "residuals = defaultdict(dict)  # residuals[layer][\"pre\" or \"post\"] = tensor\n",
    "\n",
    "def make_hook(layer_idx, mode=\"both\"):\n",
    "    def hook_pre(module, inputs):\n",
    "        if mode in (\"pre\", \"both\"):\n",
    "            residuals[layer_idx][\"pre\"] = inputs[0].clone()\n",
    "\n",
    "    def hook_post(module, inputs, output):\n",
    "        if mode in (\"post\", \"both\"):\n",
    "            if isinstance(output, tuple):\n",
    "                hidden_states = output[0]\n",
    "            else:\n",
    "                hidden_states = output\n",
    "            residuals[layer_idx][\"post\"] = hidden_states.clone()\n",
    "\n",
    "    return hook_pre, hook_post\n",
    "\n",
    "# Register hooks\n",
    "mode = \"both\"  # \"pre\", \"post\", or \"both\"\n",
    "for i, block in enumerate(model.model.layers):\n",
    "    hook_pre, hook_post = make_hook(i, mode=mode)\n",
    "    block.register_forward_pre_hook(hook_pre)\n",
    "    block.register_forward_hook(hook_post)"
   ]
  },
  {
   "cell_type": "code",
   "execution_count": null,
   "id": "942e8ed6",
   "metadata": {},
   "outputs": [],
   "source": [
    "QWEN_CHAT_TEMPLATE = \"<|im_start|>user\\n{prompt}\\n<|im_end|>\\n<|im_start|>assistant\\n\"\n",
    "\n",
    "def format_prompt(prompt):\n",
    "    return QWEN_CHAT_TEMPLATE.format(prompt=prompt)"
   ]
  },
  {
   "cell_type": "code",
   "execution_count": 19,
   "id": "42376059",
   "metadata": {},
   "outputs": [
    {
     "ename": "AttributeError",
     "evalue": "'Qwen3ForCausalLM' object has no attribute 'eoi_tokens'",
     "output_type": "error",
     "traceback": [
      "\u001b[31m---------------------------------------------------------------------------\u001b[39m",
      "\u001b[31mAttributeError\u001b[39m                            Traceback (most recent call last)",
      "\u001b[36mCell\u001b[39m\u001b[36m \u001b[39m\u001b[32mIn[19]\u001b[39m\u001b[32m, line 1\u001b[39m\n\u001b[32m----> \u001b[39m\u001b[32m1\u001b[39m \u001b[43mmodel\u001b[49m\u001b[43m.\u001b[49m\u001b[43meoi_tokens\u001b[49m\n",
      "\u001b[36mFile \u001b[39m\u001b[32m~/miniconda3/envs/uv-env/lib/python3.11/site-packages/torch/nn/modules/module.py:1729\u001b[39m, in \u001b[36mModule.__getattr__\u001b[39m\u001b[34m(self, name)\u001b[39m\n\u001b[32m   1727\u001b[39m     \u001b[38;5;28;01mif\u001b[39;00m name \u001b[38;5;129;01min\u001b[39;00m modules:\n\u001b[32m   1728\u001b[39m         \u001b[38;5;28;01mreturn\u001b[39;00m modules[name]\n\u001b[32m-> \u001b[39m\u001b[32m1729\u001b[39m \u001b[38;5;28;01mraise\u001b[39;00m \u001b[38;5;167;01mAttributeError\u001b[39;00m(\u001b[33mf\u001b[39m\u001b[33m\"\u001b[39m\u001b[33m'\u001b[39m\u001b[38;5;132;01m{\u001b[39;00m\u001b[38;5;28mtype\u001b[39m(\u001b[38;5;28mself\u001b[39m).\u001b[34m__name__\u001b[39m\u001b[38;5;132;01m}\u001b[39;00m\u001b[33m'\u001b[39m\u001b[33m object has no attribute \u001b[39m\u001b[33m'\u001b[39m\u001b[38;5;132;01m{\u001b[39;00mname\u001b[38;5;132;01m}\u001b[39;00m\u001b[33m'\u001b[39m\u001b[33m\"\u001b[39m)\n",
      "\u001b[31mAttributeError\u001b[39m: 'Qwen3ForCausalLM' object has no attribute 'eoi_tokens'"
     ]
    }
   ],
   "source": [
    "model.eoi_tokens"
   ]
  },
  {
   "cell_type": "code",
   "execution_count": 5,
   "id": "436ef872",
   "metadata": {},
   "outputs": [],
   "source": [
    "dataset = load_dataset(\"gsm8k\", \"main\")\n",
    "n = 2\n",
    "random.seed(0)\n",
    "indices = random.sample(range(len(dataset['train'])), n)\n",
    "qa_pairs = dataset['train'][indices]\n",
    "questions = qa_pairs['question']\n",
    "answers = qa_pairs['answer']\n",
    "\n",
    "import re\n",
    "final_answers = []\n",
    "for answer in answers:\n",
    "    numbers = re.findall(r'\\d+', answer)\n",
    "    final_answers.append(int(numbers[-1]) if numbers else '')"
   ]
  },
  {
   "cell_type": "code",
   "execution_count": null,
   "id": "3434cdb4",
   "metadata": {},
   "outputs": [
    {
     "name": "stderr",
     "output_type": "stream",
     "text": [
      "100%|██████████| 2/2 [00:00<00:00, 15.72it/s]\n",
      "100%|██████████| 2/2 [00:00<00:00, 20.05it/s]\n"
     ]
    }
   ],
   "source": [
    "all_residuals = []\n",
    "residuals = defaultdict(dict)\n",
    "\n",
    "for i, prompt in enumerate(tqdm(questions)):\n",
    "    residuals.clear()    \n",
    "    formatted_prompt = format_prompt(prompt)\n",
    "    inputs = tokenizer(formatted_prompt, return_tensors=\"pt\").to(model.device)\n",
    "    \n",
    "    with torch.no_grad():\n",
    "        out = model(**inputs)\n",
    "    all_residuals.append(dict(residuals))\n",
    "\n",
    "\n",
    "all_residuals_nothink = []\n",
    "residuals = defaultdict(dict)\n",
    "\n",
    "for i, prompt in enumerate(tqdm(questions)):\n",
    "    prompt = prompt + \"/nothink\"\n",
    "    residuals.clear()    \n",
    "    formatted_prompt = format_prompt(prompt)\n",
    "    inputs = tokenizer(formatted_prompt, return_tensors=\"pt\").to(model.device)\n",
    "    \n",
    "    with torch.no_grad():\n",
    "        out = model(**inputs)\n",
    "    all_residuals_nothink.append(dict(residuals))"
   ]
  },
  {
   "cell_type": "code",
   "execution_count": 17,
   "id": "d42a20f0",
   "metadata": {},
   "outputs": [
    {
     "data": {
      "text/plain": [
       "torch.Size([1, 79, 2048])"
      ]
     },
     "execution_count": 17,
     "metadata": {},
     "output_type": "execute_result"
    }
   ],
   "source": [
    "all_residuals[0][27]['pre'].shape"
   ]
  },
  {
   "cell_type": "code",
   "execution_count": 32,
   "id": "ef0551cd",
   "metadata": {},
   "outputs": [
    {
     "name": "stdout",
     "output_type": "stream",
     "text": [
      "Layer  |  μ(cos-sim)  ±  σ\n",
      "-----------------------------\n",
      "    0  |    0.9957 ± 0.0002\n",
      "    1  |    0.9970 ± 0.0002\n",
      "    2  |    0.9962 ± 0.0004\n",
      "    3  |    0.9962 ± 0.0003\n",
      "    4  |    0.9969 ± 0.0003\n",
      "    5  |    0.9973 ± 0.0003\n",
      "    6  |    0.9971 ± 0.0003\n",
      "    7  |    0.9962 ± 0.0004\n",
      "    8  |    0.9951 ± 0.0006\n",
      "    9  |    0.9843 ± 0.0027\n",
      "   10  |    0.9811 ± 0.0039\n",
      "   11  |    0.9804 ± 0.0040\n",
      "   12  |    0.9753 ± 0.0060\n",
      "   13  |    0.9722 ± 0.0080\n",
      "   14  |    0.9568 ± 0.0109\n",
      "   15  |    0.9495 ± 0.0136\n",
      "   16  |    0.9514 ± 0.0112\n",
      "   17  |    0.9286 ± 0.0124\n",
      "   18  |    0.9073 ± 0.0111\n",
      "   19  |    0.8768 ± 0.0133\n",
      "   20  |    0.8352 ± 0.0223\n",
      "   21  |    0.7792 ± 0.0283\n",
      "   22  |    0.8023 ± 0.0242\n",
      "   23  |    0.7911 ± 0.0210\n",
      "   24  |    0.7743 ± 0.0189\n",
      "   25  |    0.7706 ± 0.0180\n",
      "   26  |    0.7634 ± 0.0163\n",
      "   27  |    0.7288 ± 0.0172\n",
      "   28  |    0.7499 ± 0.0138\n",
      "   29  |    0.7849 ± 0.0123\n",
      "   30  |    0.7867 ± 0.0097\n",
      "   31  |    0.7648 ± 0.0097\n",
      "   32  |    0.7726 ± 0.0117\n",
      "   33  |    0.7792 ± 0.0124\n",
      "   34  |    0.8140 ± 0.0079\n",
      "   35  |    0.7882 ± 0.0075\n"
     ]
    }
   ],
   "source": [
    "import torch\n",
    "import torch.nn.functional as F\n",
    "from collections import defaultdict\n",
    "import math\n",
    "\n",
    "# --- CONFIG -----------------------------------------------------------\n",
    "RES_KEY = \"post\"        # or \"pre\" if you stored pre-activations instead\n",
    "LAST_ONLY = True        # True ⇒ use residual for last token only\n",
    "eps = 1e-8              # numerical stabiliser for tiny norms\n",
    "# ----------------------------------------------------------------------\n",
    "\n",
    "# 1. Initialise container: one list of sims per layer\n",
    "layers = sorted(all_residuals[0].keys())     # e.g. [0,1,2,…,N-1]\n",
    "sims_per_layer = defaultdict(list)           # layer → [sim₁, sim₂, …]\n",
    "\n",
    "# 2. Loop over prompt pairs\n",
    "for r_think, r_nt in zip(all_residuals, all_residuals_nothink):\n",
    "    for L in layers:\n",
    "        # Pull tensors: shape (1, seq_len, d_model)\n",
    "        t  = r_think[L][RES_KEY]\n",
    "        nt = r_nt[L][RES_KEY]\n",
    "\n",
    "        # Optionally slice to last token\n",
    "        if LAST_ONLY:\n",
    "            t  = t[:, -1, :]          # (1, d_model)\n",
    "            nt = nt[:, -1, :]         # (1, d_model)\n",
    "\n",
    "        # Flatten to 1-D, compute cosine sim\n",
    "        sim = F.cosine_similarity(t.reshape(-1), nt.reshape(-1), dim=0, eps=eps)\n",
    "        sims_per_layer[L].append(sim.item())\n",
    "\n",
    "# 3. Aggregate stats\n",
    "mean_std = {L: (sum(v)/len(v),\n",
    "                math.sqrt(sum((x - sum(v)/len(v))**2 for x in v)/len(v)))\n",
    "            for L, v in sims_per_layer.items()}\n",
    "\n",
    "# 4. Print nicely\n",
    "print(\"Layer  |  μ(cos-sim)  ±  σ\")\n",
    "print(\"-----------------------------\")\n",
    "for L in layers:\n",
    "    μ, σ = mean_std[L]\n",
    "    print(f\"{L:>5}  |  {μ:8.4f} ± {σ:6.4f}\")\n"
   ]
  },
  {
   "cell_type": "code",
   "execution_count": 36,
   "id": "2d075a45",
   "metadata": {},
   "outputs": [
    {
     "data": {
      "image/png": "[encoded data removed]",
      "text/plain": [
       "<Figure size 640x480 with 1 Axes>"
      ]
     },
     "metadata": {},
     "output_type": "display_data"
    }
   ],
   "source": [
    "import matplotlib.pyplot as plt\n",
    "\n",
    "# Extract means for plotting\n",
    "means = [mean_std[L][0] for L in layers]\n",
    "\n",
    "plt.plot(layers, means)\n",
    "plt.xlabel('Layer')\n",
    "plt.ylabel('Mean Cosine Similarity')\n",
    "plt.title('Mean Cosine Similarity by Layer')\n",
    "plt.show()"
   ]
  },
  {
   "cell_type": "code",
   "execution_count": 38,
   "id": "ee4d64a9",
   "metadata": {},
   "outputs": [
    {
     "name": "stdout",
     "output_type": "stream",
     "text": [
      "\n",
      "Cosine between mean residual directions:\n",
      "Layer  0:  cos(mean_think, mean_nothink) = 0.9959\n",
      "Layer  1:  cos(mean_think, mean_nothink) = 0.9973\n",
      "Layer  2:  cos(mean_think, mean_nothink) = 0.9967\n",
      "Layer  3:  cos(mean_think, mean_nothink) = 0.9967\n",
      "Layer  4:  cos(mean_think, mean_nothink) = 0.9973\n",
      "Layer  5:  cos(mean_think, mean_nothink) = 0.9977\n",
      "Layer  6:  cos(mean_think, mean_nothink) = 0.9976\n",
      "Layer  7:  cos(mean_think, mean_nothink) = 0.9968\n",
      "Layer  8:  cos(mean_think, mean_nothink) = 0.9959\n",
      "Layer  9:  cos(mean_think, mean_nothink) = 0.9857\n",
      "Layer 10:  cos(mean_think, mean_nothink) = 0.9831\n",
      "Layer 11:  cos(mean_think, mean_nothink) = 0.9827\n",
      "Layer 12:  cos(mean_think, mean_nothink) = 0.9783\n",
      "Layer 13:  cos(mean_think, mean_nothink) = 0.9766\n",
      "Layer 14:  cos(mean_think, mean_nothink) = 0.9625\n",
      "Layer 15:  cos(mean_think, mean_nothink) = 0.9576\n",
      "Layer 16:  cos(mean_think, mean_nothink) = 0.9597\n",
      "Layer 17:  cos(mean_think, mean_nothink) = 0.9376\n",
      "Layer 18:  cos(mean_think, mean_nothink) = 0.9180\n",
      "Layer 19:  cos(mean_think, mean_nothink) = 0.8886\n",
      "Layer 20:  cos(mean_think, mean_nothink) = 0.8492\n",
      "Layer 21:  cos(mean_think, mean_nothink) = 0.7947\n",
      "Layer 22:  cos(mean_think, mean_nothink) = 0.8163\n",
      "Layer 23:  cos(mean_think, mean_nothink) = 0.8033\n",
      "Layer 24:  cos(mean_think, mean_nothink) = 0.7878\n",
      "Layer 25:  cos(mean_think, mean_nothink) = 0.7835\n",
      "Layer 26:  cos(mean_think, mean_nothink) = 0.7753\n",
      "Layer 27:  cos(mean_think, mean_nothink) = 0.7417\n",
      "Layer 28:  cos(mean_think, mean_nothink) = 0.7617\n",
      "Layer 29:  cos(mean_think, mean_nothink) = 0.7960\n",
      "Layer 30:  cos(mean_think, mean_nothink) = 0.7971\n",
      "Layer 31:  cos(mean_think, mean_nothink) = 0.7753\n",
      "Layer 32:  cos(mean_think, mean_nothink) = 0.7825\n",
      "Layer 33:  cos(mean_think, mean_nothink) = 0.7895\n",
      "Layer 34:  cos(mean_think, mean_nothink) = 0.8228\n",
      "Layer 35:  cos(mean_think, mean_nothink) = 0.7979\n"
     ]
    },
    {
     "data": {
      "image/png": "[encoded data removed]",
      "text/plain": [
       "<Figure size 640x480 with 1 Axes>"
      ]
     },
     "metadata": {},
     "output_type": "display_data"
    }
   ],
   "source": [
    "# Mean direction version\n",
    "mean_dir = {}\n",
    "\n",
    "for L in layers:\n",
    "    think_stack = torch.stack([r[L][RES_KEY][:, -1, :].squeeze(0) for r in all_residuals])\n",
    "    nothink_stack = torch.stack([r[L][RES_KEY][:, -1, :].squeeze(0) for r in all_residuals_nothink])\n",
    "\n",
    "    mean_think = think_stack.mean(dim=0)\n",
    "    mean_nothink = nothink_stack.mean(dim=0)\n",
    "\n",
    "    sim = F.cosine_similarity(mean_think, mean_nothink, dim=0)\n",
    "    mean_dir[L] = sim.item()\n",
    "\n",
    "print(\"\\nCosine between mean residual directions:\")\n",
    "for L in layers:\n",
    "    print(f\"Layer {L:>2}:  cos(mean_think, mean_nothink) = {mean_dir[L]:.4f}\")\n",
    "\n",
    "# Plot mean direction cosine similarities\n",
    "mean_dir_values = [mean_dir[L] for L in layers]\n",
    "\n",
    "plt.figure()\n",
    "plt.plot(layers, mean_dir_values, marker='o')\n",
    "plt.xlabel('Layer')\n",
    "plt.ylabel('Cosine Similarity (Mean Directions)')\n",
    "plt.title('Cosine Similarity Between Mean Residual Directions')\n",
    "plt.grid(True, alpha=0.3)\n",
    "plt.show()\n"
   ]
  },
  {
   "cell_type": "code",
   "execution_count": 29,
   "id": "dfbae12b",
   "metadata": {},
   "outputs": [
    {
     "name": "stderr",
     "output_type": "stream",
     "text": [
      "/tmp/ipykernel_126035/551303806.py:2: FutureWarning: You are using `torch.load` with `weights_only=False` (the current default value), which uses the default pickle module implicitly. It is possible to construct malicious pickle data which will execute arbitrary code during unpickling (See https://github.com/pytorch/pytorch/blob/main/SECURITY.md#untrusted-models for more details). In a future release, the default value for `weights_only` will be flipped to `True`. This limits the functions that could be executed during unpickling. Arbitrary objects will no longer be allowed to be loaded via this mode unless they are explicitly allowlisted by the user via `torch.serialization.add_safe_globals`. We recommend you start setting `weights_only=True` for any use case where you don't have full control of the loaded file. Please open an issue on GitHub for any issues related to this experimental feature.\n",
      "  think_data = torch.load('/mnt/SSD4/kartik/reasoning/residuals/residuals_think_Qwen_Qwen3-1.7B.pt')\n",
      "/tmp/ipykernel_126035/551303806.py:3: FutureWarning: You are using `torch.load` with `weights_only=False` (the current default value), which uses the default pickle module implicitly. It is possible to construct malicious pickle data which will execute arbitrary code during unpickling (See https://github.com/pytorch/pytorch/blob/main/SECURITY.md#untrusted-models for more details). In a future release, the default value for `weights_only` will be flipped to `True`. This limits the functions that could be executed during unpickling. Arbitrary objects will no longer be allowed to be loaded via this mode unless they are explicitly allowlisted by the user via `torch.serialization.add_safe_globals`. We recommend you start setting `weights_only=True` for any use case where you don't have full control of the loaded file. Please open an issue on GitHub for any issues related to this experimental feature.\n",
      "  nothink_data = torch.load('/mnt/SSD4/kartik/reasoning/residuals/residuals_nothink_Qwen_Qwen3-1.7B.pt')\n"
     ]
    }
   ],
   "source": [
    "# Load the saved residuals\n",
    "think_data = torch.load('/mnt/SSD4/kartik/reasoning/residuals/residuals_think_Qwen_Qwen3-1.7B.pt')\n",
    "nothink_data = torch.load('/mnt/SSD4/kartik/reasoning/residuals/residuals_nothink_Qwen_Qwen3-1.7B.pt')"
   ]
  },
  {
   "cell_type": "code",
   "execution_count": 30,
   "id": "e126b2be",
   "metadata": {},
   "outputs": [
    {
     "data": {
      "text/plain": [
       "dict_keys(['pre', 'post', 'eoi_token_ids', 'questions'])"
      ]
     },
     "execution_count": 30,
     "metadata": {},
     "output_type": "execute_result"
    }
   ],
   "source": [
    "nothink_data.keys()"
   ]
  },
  {
   "cell_type": "code",
   "execution_count": 33,
   "id": "21f83e88",
   "metadata": {},
   "outputs": [
    {
     "data": {
      "text/plain": [
       "(torch.Size([2, 28, 6, 2048]),\n",
       " torch.Size([2, 28, 6, 2048]),\n",
       " torch.Size([2, 28, 6, 2048]),\n",
       " torch.Size([2, 28, 6, 2048]))"
      ]
     },
     "execution_count": 33,
     "metadata": {},
     "output_type": "execute_result"
    }
   ],
   "source": [
    "nothink_data['pre'].shape, nothink_data['post'].shape, think_data['pre'].shape, think_data['post'].shape"
   ]
  },
  {
   "cell_type": "code",
   "execution_count": null,
   "id": "5aef632e",
   "metadata": {},
   "outputs": [],
   "source": []
  }
 ],
 "metadata": {
  "kernelspec": {
   "display_name": "uv-env",
   "language": "python",
   "name": "python3"
  },
  "language_info": {
   "codemirror_mode": {
    "name": "ipython",
    "version": 3
   },
   "file_extension": ".py",
   "mimetype": "text/x-python",
   "name": "python",
   "nbconvert_exporter": "python",
   "pygments_lexer": "ipython3",
   "version": "3.11.11"
  }
 },
 "nbformat": 4,
 "nbformat_minor": 5
}
