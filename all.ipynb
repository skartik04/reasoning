{
 "cells": [
  {
   "cell_type": "code",
   "execution_count": 31,
   "id": "a4df4a12",
   "metadata": {},
   "outputs": [],
   "source": [
    "from transformers import AutoTokenizer, AutoModelForCausalLM\n",
    "model_name = \"meta-llama/Llama-3.1-8B-Instruct\"\n",
    "\n",
    "tokenizer = AutoTokenizer.from_pretrained(model_name)"
   ]
  },
  {
   "cell_type": "code",
   "execution_count": 37,
   "id": "bb9b53a8",
   "metadata": {},
   "outputs": [],
   "source": [
    "words = [\"can't\", \"'t\", \"grave\", \"**However**\", \"noting\", \"\\nHowever,\", \" However\", \"I\", \"I'm\", \"*not*\", \" Note:\", \" Note\"]"
   ]
  },
  {
   "cell_type": "code",
   "execution_count": 38,
   "id": "cbfdb0c5",
   "metadata": {},
   "outputs": [
    {
     "name": "stdout",
     "output_type": "stream",
     "text": [
      "Word: 'can't'\n",
      "  4919 -> 'can'\n",
      "  956 -> ''t'\n",
      "Word: ''t'\n",
      "  956 -> ''t'\n",
      "Word: 'grave'\n",
      "  77731 -> 'grave'\n",
      "Word: '**However**'\n",
      "  334 -> '**'\n",
      "  11458 -> 'However'\n",
      "  334 -> '**'\n",
      "Word: 'noting'\n",
      "  1962 -> 'not'\n",
      "  287 -> 'ing'\n",
      "Word: '\n",
      "However,'\n",
      "  198 -> '\n",
      "'\n",
      "  11458 -> 'However'\n",
      "  11 -> ','\n",
      "Word: ' However'\n",
      "  4452 -> ' However'\n",
      "Word: 'I'\n",
      "  40 -> 'I'\n",
      "Word: 'I'm'\n",
      "  40 -> 'I'\n",
      "  2846 -> ''m'\n",
      "Word: '*not*'\n",
      "  9 -> '*'\n",
      "  1962 -> 'not'\n",
      "  9 -> '*'\n",
      "Word: ' Note:'\n",
      "  7181 -> ' Note'\n",
      "  25 -> ':'\n",
      "Word: ' Note'\n",
      "  7181 -> ' Note'\n"
     ]
    }
   ],
   "source": [
    "for word in words:\n",
    "    tokens = tokenizer.encode(word, add_special_tokens=False)\n",
    "    print(f\"Word: '{word}'\")\n",
    "    for token_id in tokens:\n",
    "        token_text = tokenizer.decode([token_id])\n",
    "        print(f\"  {token_id} -> '{token_text}'\")"
   ]
  },
  {
   "cell_type": "code",
   "execution_count": null,
   "id": "d2cd785e",
   "metadata": {},
   "outputs": [],
   "source": []
  }
 ],
 "metadata": {
  "kernelspec": {
   "display_name": "mechan",
   "language": "python",
   "name": "python3"
  },
  "language_info": {
   "codemirror_mode": {
    "name": "ipython",
    "version": 3
   },
   "file_extension": ".py",
   "mimetype": "text/x-python",
   "name": "python",
   "nbconvert_exporter": "python",
   "pygments_lexer": "ipython3",
   "version": "3.11.11"
  }
 },
 "nbformat": 4,
 "nbformat_minor": 5
}
